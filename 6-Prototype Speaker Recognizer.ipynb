{
 "cells": [
  {
   "cell_type": "code",
   "execution_count": 1,
   "metadata": {},
   "outputs": [
    {
     "name": "stderr",
     "output_type": "stream",
     "text": [
      "Using TensorFlow backend.\n"
     ]
    }
   ],
   "source": [
    "import application\n",
    "import audiostream\n",
    "import audiolib\n",
    "import config\n",
    "import models\n",
    "import charts\n",
    "\n",
    "import time\n",
    "import numpy as np"
   ]
  },
  {
   "cell_type": "code",
   "execution_count": 2,
   "metadata": {},
   "outputs": [
    {
     "name": "stdout",
     "output_type": "stream",
     "text": [
      "Resuming at batch 42548\n",
      "Loading model from checkpoints\\voice-embeddings.h5\n",
      "Preloaded model from checkpoints\\voice-embeddings.h5\n"
     ]
    }
   ],
   "source": [
    "application.init()\n",
    "model = application.load_model()"
   ]
  },
  {
   "cell_type": "code",
   "execution_count": 4,
   "metadata": {},
   "outputs": [
    {
     "ename": "AttributeError",
     "evalue": "'RefVariable' object has no attribute 'get_value'",
     "output_type": "error",
     "traceback": [
      "\u001b[1;31m---------------------------------------------------------------------------\u001b[0m",
      "\u001b[1;31mAttributeError\u001b[0m                            Traceback (most recent call last)",
      "\u001b[1;32m<ipython-input-4-f3864feeefaa>\u001b[0m in \u001b[0;36m<module>\u001b[1;34m\u001b[0m\n\u001b[1;32m----> 1\u001b[1;33m \u001b[0mmodel\u001b[0m\u001b[1;33m.\u001b[0m\u001b[0moptimizer\u001b[0m\u001b[1;33m.\u001b[0m\u001b[0mlr\u001b[0m\u001b[1;33m.\u001b[0m\u001b[0mget_value\u001b[0m\u001b[1;33m(\u001b[0m\u001b[1;33m)\u001b[0m\u001b[1;33m\u001b[0m\u001b[1;33m\u001b[0m\u001b[0m\n\u001b[0m",
      "\u001b[1;31mAttributeError\u001b[0m: 'RefVariable' object has no attribute 'get_value'"
     ]
    }
   ],
   "source": [
    "model.optimizer.lr.get_value()"
   ]
  },
  {
   "cell_type": "code",
   "execution_count": 2,
   "metadata": {},
   "outputs": [
    {
     "name": "stdout",
     "output_type": "stream",
     "text": [
      "Recording\n",
      "4 seconds remaining\n",
      "3 seconds remaining\n",
      "2 seconds remaining\n",
      "1 seconds remaining\n",
      "Recording finished\n"
     ]
    }
   ],
   "source": [
    "clip1 = audiostream.record(4, rate=16000)"
   ]
  },
  {
   "cell_type": "code",
   "execution_count": 213,
   "metadata": {},
   "outputs": [],
   "source": [
    "def sound_chunks(sound, chunk_seconds=1.6, step_seconds=0.5, sample_rate=44100):\n",
    "    \"\"\"Return a sequence of sound chunks from a sound clip.\n",
    "    Each chunk will be 1.6 seconds of the sound, and each\n",
    "    successive chunk will be advanced by the specified number of seconds.\n",
    "    sound: a numpy array of 16-bit signed integers representing a sound sample.\n",
    "    \"\"\"\n",
    "    chunk_len = int(chunk_seconds * sample_rate)\n",
    "    chunk_step = int(step_seconds * sample_rate)\n",
    "    chunk_count = int(len(sound) / chunk_step)\n",
    "    for i in range(chunk_count):\n",
    "        start = i * chunk_step\n",
    "        end = start + chunk_len\n",
    "        yield sound[start:end]\n",
    "\n",
    "def embeddings_from_sound(model, sound, sample_rate=16000):\n",
    "    \"\"\"Return a sequence of embeddings from the different time slices\n",
    "    in the sound clip.\n",
    "    sound: a numpy array of 16-bit signed integers representing a sound sample.\n",
    "    \"\"\"\n",
    "    # The 1.601 is a hack to make sure we end up with a shape of 160 instead of 159.\n",
    "    # What we actually want is 1.6.\n",
    "    #*TODO: Figure out a better way to fix the 159->160 off by one error than adding .001.\n",
    "    chunk_seconds=1.61\n",
    "    for chunk in sound_chunks(sound, chunk_seconds=chunk_seconds, sample_rate=sample_rate):\n",
    "        # The last portion of the sound may be less than our desired length.\n",
    "        # We can safely skip it because we'll process it later as it shifts down the time window.\n",
    "        lc = len(chunk)\n",
    "        #print('lc=%d sec=%f delta=%f' % (lc, lc/sample_rate, lc/sample_rate - chunk_seconds))\n",
    "        if len(chunk)/sample_rate - chunk_seconds < -0.009:\n",
    "            continue\n",
    "        yield calc_embedding(model, chunk)\n",
    "\n",
    "def calc_embedding(model, sound, sample_rate=16000):\n",
    "    \"\"\"\n",
    "    sound: a numpy array of 16-bit signed sound samples.\n",
    "    \"\"\"\n",
    "    features = audiolib.extract_features(sound, sample_rate=sample_rate, num_filters=config.NUM_FILTERS)\n",
    "    if len(features) < 160:\n",
    "        raise Exception('need exactly 160 features to calculate an embedding, but got %d' % len(features))\n",
    "    emb = models.get_embedding(model, features)\n",
    "    return emb\n",
    "\n",
    "def compare_embeddings(emb1, emb2):\n",
    "    \"\"\"Returns a scalar indicating the difference between 2 embeddings.\n",
    "    Smaller numbers indicate closer.\n",
    "    \"\"\"\n",
    "    dist = np.linalg.norm(emb1 - emb2)\n",
    "    return dist"
   ]
  },
  {
   "cell_type": "code",
   "execution_count": 7,
   "metadata": {},
   "outputs": [
    {
     "data": {
      "text/plain": [
       "(64000, 4.0)"
      ]
     },
     "execution_count": 7,
     "metadata": {},
     "output_type": "execute_result"
    }
   ],
   "source": [
    "len(clip1), len(clip1)/16000"
   ]
  },
  {
   "cell_type": "code",
   "execution_count": 65,
   "metadata": {},
   "outputs": [],
   "source": [
    "import itertools\n",
    "\n",
    "def compare_embedding_permutations(embeddings):\n",
    "    \"\"\"Compare multiple embeddings against each other.\n",
    "    Given a list of multiple embeddings, compare all the combinations of them taken 2 at a time.\n",
    "    Returns a list of scalars representing the various comparisons.\n",
    "    \"\"\"\n",
    "    for emb1, emb2 in itertools.permutations(embeddings, 2):\n",
    "        yield compare_embeddings(emb1, emb2)"
   ]
  },
  {
   "cell_type": "code",
   "execution_count": 69,
   "metadata": {},
   "outputs": [],
   "source": [
    "rico1_embs = list(embeddings_from_sound(model, clip1, sample_rate=16000))"
   ]
  },
  {
   "cell_type": "code",
   "execution_count": 70,
   "metadata": {},
   "outputs": [],
   "source": [
    "rico1_comparisons = list(compare_embedding_permutations(rico1_embs))"
   ]
  },
  {
   "cell_type": "code",
   "execution_count": 71,
   "metadata": {},
   "outputs": [
    {
     "data": {
      "image/png": "[encoded data removed]",
      "text/plain": [
       "<Figure size 432x288 with 1 Axes>"
      ]
     },
     "metadata": {
      "needs_background": "light"
     },
     "output_type": "display_data"
    }
   ],
   "source": [
    "charts.histogram(rico1_comparisons)"
   ]
  },
  {
   "cell_type": "code",
   "execution_count": 64,
   "metadata": {},
   "outputs": [
    {
     "data": {
      "text/plain": [
       "0.40245754"
      ]
     },
     "execution_count": 64,
     "metadata": {},
     "output_type": "execute_result"
    }
   ],
   "source": [
    "compare_embeddings(rico1_embs[0], emb1[0])"
   ]
  },
  {
   "cell_type": "code",
   "execution_count": 72,
   "metadata": {},
   "outputs": [
    {
     "name": "stdout",
     "output_type": "stream",
     "text": [
      "Recording\n",
      "4 seconds remaining\n",
      "3 seconds remaining\n",
      "2 seconds remaining\n",
      "1 seconds remaining\n",
      "Recording finished\n"
     ]
    }
   ],
   "source": [
    "rico_clip2 = audiostream.record(4, rate=16000)"
   ]
  },
  {
   "cell_type": "code",
   "execution_count": 74,
   "metadata": {},
   "outputs": [],
   "source": [
    "rico2_embs = list(embeddings_from_sound(model, rico_clip2, sample_rate=16000))"
   ]
  },
  {
   "cell_type": "code",
   "execution_count": 77,
   "metadata": {},
   "outputs": [],
   "source": [
    "rico2_comparisons = list(compare_embedding_permutations(rico2_embs))"
   ]
  },
  {
   "cell_type": "code",
   "execution_count": 78,
   "metadata": {},
   "outputs": [
    {
     "data": {
      "image/png": "[encoded data removed]",
      "text/plain": [
       "<Figure size 432x288 with 1 Axes>"
      ]
     },
     "metadata": {
      "needs_background": "light"
     },
     "output_type": "display_data"
    }
   ],
   "source": [
    "charts.histogram(rico2_comparisons)"
   ]
  },
  {
   "cell_type": "code",
   "execution_count": 85,
   "metadata": {},
   "outputs": [
    {
     "data": {
      "text/plain": [
       "0.60666585"
      ]
     },
     "execution_count": 85,
     "metadata": {},
     "output_type": "execute_result"
    }
   ],
   "source": [
    "compare_embeddings(rico1_embs[3], rico2_embs[3])"
   ]
  },
  {
   "cell_type": "code",
   "execution_count": 88,
   "metadata": {},
   "outputs": [
    {
     "name": "stdout",
     "output_type": "stream",
     "text": [
      "Recording\n",
      "4 seconds remaining\n",
      "3 seconds remaining\n",
      "2 seconds remaining\n",
      "1 seconds remaining\n",
      "Recording finished\n"
     ]
    }
   ],
   "source": [
    "cor_clip1 = audiostream.record(4, rate=16000)"
   ]
  },
  {
   "cell_type": "code",
   "execution_count": 89,
   "metadata": {},
   "outputs": [
    {
     "name": "stdout",
     "output_type": "stream",
     "text": [
      "Recording\n",
      "4 seconds remaining\n",
      "3 seconds remaining\n",
      "2 seconds remaining\n",
      "1 seconds remaining\n",
      "Recording finished\n"
     ]
    }
   ],
   "source": [
    "cor_clip2 = audiostream.record(4, rate=16000)"
   ]
  },
  {
   "cell_type": "code",
   "execution_count": 90,
   "metadata": {},
   "outputs": [
    {
     "name": "stdout",
     "output_type": "stream",
     "text": [
      "Recording\n",
      "4 seconds remaining\n",
      "3 seconds remaining\n",
      "2 seconds remaining\n",
      "1 seconds remaining\n",
      "Recording finished\n"
     ]
    }
   ],
   "source": [
    "cor_clip3 = audiostream.record(4, rate=16000)"
   ]
  },
  {
   "cell_type": "code",
   "execution_count": 135,
   "metadata": {},
   "outputs": [],
   "source": [
    "cor1_embs = list(embeddings_from_sound(model, cor_clip1, sample_rate=16000))\n",
    "cor2_embs = list(embeddings_from_sound(model, cor_clip1, sample_rate=16000))\n",
    "cor3_embs = list(embeddings_from_sound(model, cor_clip1, sample_rate=16000))"
   ]
  },
  {
   "cell_type": "code",
   "execution_count": 99,
   "metadata": {},
   "outputs": [
    {
     "data": {
      "text/plain": [
       "1.5730244"
      ]
     },
     "execution_count": 99,
     "metadata": {},
     "output_type": "execute_result"
    }
   ],
   "source": [
    "compare_embeddings(rico1_embs[2], cor1_embs[3])"
   ]
  },
  {
   "cell_type": "code",
   "execution_count": 100,
   "metadata": {},
   "outputs": [
    {
     "name": "stdout",
     "output_type": "stream",
     "text": [
      "Recording\n",
      "4 seconds remaining\n",
      "3 seconds remaining\n",
      "2 seconds remaining\n",
      "1 seconds remaining\n",
      "Recording finished\n"
     ]
    }
   ],
   "source": [
    "jecka_clip1 = audiostream.record(4, rate=16000)"
   ]
  },
  {
   "cell_type": "code",
   "execution_count": 101,
   "metadata": {},
   "outputs": [
    {
     "name": "stdout",
     "output_type": "stream",
     "text": [
      "Recording\n",
      "4 seconds remaining\n",
      "3 seconds remaining\n",
      "2 seconds remaining\n",
      "1 seconds remaining\n",
      "Recording finished\n"
     ]
    }
   ],
   "source": [
    "jecka_clip2 = audiostream.record(4, rate=16000)"
   ]
  },
  {
   "cell_type": "code",
   "execution_count": 102,
   "metadata": {},
   "outputs": [
    {
     "name": "stdout",
     "output_type": "stream",
     "text": [
      "Recording\n",
      "4 seconds remaining\n",
      "3 seconds remaining\n",
      "2 seconds remaining\n",
      "1 seconds remaining\n",
      "Recording finished\n"
     ]
    }
   ],
   "source": [
    "jecka_clip3 = audiostream.record(4, rate=16000)"
   ]
  },
  {
   "cell_type": "code",
   "execution_count": 103,
   "metadata": {},
   "outputs": [],
   "source": [
    "audiolib.save_wav(r'd:\\tmp\\rico1.wav', clip1, rate=16000)\n",
    "audiolib.save_wav(r'd:\\tmp\\rico2.wav', rico_clip2, rate=16000)\n",
    "audiolib.save_wav(r'd:\\tmp\\cor_clip1.wav', cor_clip1, rate=16000)\n",
    "audiolib.save_wav(r'd:\\tmp\\cor_clip2.wav', cor_clip2, rate=16000)\n",
    "audiolib.save_wav(r'd:\\tmp\\cor_clip3.wav', cor_clip3, rate=16000)\n",
    "audiolib.save_wav(r'd:\\tmp\\jecka_clip1.wav', jecka_clip1, rate=16000)\n",
    "audiolib.save_wav(r'd:\\tmp\\jecka_clip2.wav', jecka_clip2, rate=16000)\n",
    "audiolib.save_wav(r'd:\\tmp\\jecka_clip3.wav', jecka_clip3, rate=16000)"
   ]
  },
  {
   "cell_type": "code",
   "execution_count": 110,
   "metadata": {},
   "outputs": [],
   "source": [
    "jecka1_embs = list(embeddings_from_sound(model, jecka_clip1, sample_rate=16000))\n",
    "jecka2_embs = list(embeddings_from_sound(model, jecka_clip2, sample_rate=16000))\n",
    "jecka3_embs = list(embeddings_from_sound(model, jecka_clip3, sample_rate=16000))"
   ]
  },
  {
   "cell_type": "code",
   "execution_count": 124,
   "metadata": {},
   "outputs": [
    {
     "data": {
      "text/plain": [
       "1.2861824"
      ]
     },
     "execution_count": 124,
     "metadata": {},
     "output_type": "execute_result"
    }
   ],
   "source": [
    "compare_embeddings(jecka1_embs[0],rico1_embs[0])"
   ]
  },
  {
   "cell_type": "code",
   "execution_count": 125,
   "metadata": {},
   "outputs": [
    {
     "data": {
      "text/plain": [
       "0.8714248"
      ]
     },
     "execution_count": 125,
     "metadata": {},
     "output_type": "execute_result"
    }
   ],
   "source": [
    "compare_embeddings(jecka1_embs[1],jecka2_embs[0])"
   ]
  },
  {
   "cell_type": "code",
   "execution_count": 126,
   "metadata": {},
   "outputs": [
    {
     "data": {
      "text/plain": [
       "1.1345081"
      ]
     },
     "execution_count": 126,
     "metadata": {},
     "output_type": "execute_result"
    }
   ],
   "source": [
    "compare_embeddings(cor1_embs[1],jecka2_embs[0])"
   ]
  },
  {
   "cell_type": "code",
   "execution_count": 155,
   "metadata": {},
   "outputs": [],
   "source": [
    "class KnownSpeaker:\n",
    "    def __init__(self, name):\n",
    "        self.name = name\n",
    "        self.embeddings = [] # A list of embeddings of known utterances by this speaker.\n",
    "    \n",
    "    def add_embeddings(self, embeddings):\n",
    "        self.embeddings.extend(embeddings)\n",
    "    \n",
    "    def distance(self, anchor_embedding):\n",
    "        \"\"\"Returns the average distance of the embedding to known\n",
    "        utterances by this speaker.\n",
    "        \"\"\"\n",
    "        distances = [compare_embeddings(anchor_embedding, emb) for emb in self.embeddings]\n",
    "        return np.mean(distances)"
   ]
  },
  {
   "cell_type": "code",
   "execution_count": 157,
   "metadata": {},
   "outputs": [],
   "source": [
    "rico = KnownSpeaker('Rico')\n",
    "rico.add_embeddings(rico1_embs)\n",
    "rico.add_embeddings(rico2_embs)\n",
    "cor = KnownSpeaker('Cor')\n",
    "cor.add_embeddings(cor1_embs)\n",
    "cor.add_embeddings(cor2_embs)\n",
    "cor.add_embeddings(cor3_embs)\n",
    "jecka = KnownSpeaker('Jecka')\n",
    "jecka.add_embeddings(jecka1_embs)\n",
    "jecka.add_embeddings(jecka2_embs)\n",
    "jecka.add_embeddings(jecka2_embs)"
   ]
  },
  {
   "cell_type": "code",
   "execution_count": 169,
   "metadata": {},
   "outputs": [
    {
     "data": {
      "text/plain": [
       "(0.49930662, 1.5563623, 1.2464644)"
      ]
     },
     "execution_count": 169,
     "metadata": {},
     "output_type": "execute_result"
    }
   ],
   "source": [
    "emb = rico2_embs[3]\n",
    "#emb = cor1_embs[3]\n",
    "#emb = jecka2_embs[3]\n",
    "rico.distance(emb), cor.distance(emb), jecka.distance(emb)"
   ]
  },
  {
   "cell_type": "code",
   "execution_count": 231,
   "metadata": {},
   "outputs": [],
   "source": [
    "class RecognizerPrototype:\n",
    "    def __init__(self, known_speakers, model):\n",
    "        self.known_speakers = known_speakers\n",
    "        self.model = model\n",
    "    \n",
    "    def run(self, duration_seconds=20):\n",
    "        rate = 16000\n",
    "        stream = audiostream.AudioStream(seconds=4, rate=rate)\n",
    "        stream.start()\n",
    "        seconds_remaining = duration_seconds\n",
    "        speaker_name = '-'\n",
    "        speaker = None\n",
    "        step_duration = 0.5\n",
    "        dist = 999\n",
    "        while seconds_remaining > 0:\n",
    "            print('%d remaining. dist=%f Speaker=%s' % (seconds_remaining, dist, speaker_name))\n",
    "            time.sleep(step_duration)\n",
    "            \n",
    "            sound = stream.sound_array()\n",
    "            if len(sound)/rate < 1.61:\n",
    "                continue\n",
    "            embs = list(embeddings_from_sound(self.model, sound, sample_rate=rate))\n",
    "            # To avoid the rounding error of 159 frames instead of 160, we need at least 2 full chunks.\n",
    "            if len(embs) <1:\n",
    "                continue\n",
    "            # Later, we could change this to use multiple embeddings form the last few seconds.\n",
    "            # For now we'll just get the last full chunk.\n",
    "            embedding = embs[-1]\n",
    "            dist, speaker = self.determine_speaker(embedding)\n",
    "            if dist < 0.99:\n",
    "                speaker_name = speaker.name\n",
    "            else:\n",
    "                speaker_name = '-'\n",
    "            \n",
    "            seconds_remaining -= step_duration\n",
    "    \n",
    "    def determine_speaker(self, embedding):\n",
    "        best_speaker = None\n",
    "        best_dist = 999\n",
    "        for speaker in self.known_speakers:\n",
    "            dist = speaker.distance(embedding)\n",
    "            if dist < best_dist:\n",
    "                best_dist = dist\n",
    "                best_speaker = speaker\n",
    "        return best_dist, best_speaker"
   ]
  },
  {
   "cell_type": "code",
   "execution_count": 235,
   "metadata": {
    "scrolled": false
   },
   "outputs": [
    {
     "name": "stdout",
     "output_type": "stream",
     "text": [
      "15 remaining. dist=999.000000 Speaker=-\n",
      "15 remaining. dist=999.000000 Speaker=-\n",
      "15 remaining. dist=999.000000 Speaker=-\n",
      "15 remaining. dist=999.000000 Speaker=-\n",
      "14 remaining. dist=1.161672 Speaker=-\n",
      "14 remaining. dist=0.963942 Speaker=Cor\n",
      "13 remaining. dist=0.787207 Speaker=Cor\n",
      "13 remaining. dist=0.941732 Speaker=Cor\n",
      "12 remaining. dist=0.850635 Speaker=Cor\n",
      "12 remaining. dist=0.895779 Speaker=Cor\n",
      "11 remaining. dist=1.052427 Speaker=-\n",
      "11 remaining. dist=0.857238 Speaker=Cor\n",
      "10 remaining. dist=1.042673 Speaker=-\n",
      "10 remaining. dist=1.156600 Speaker=-\n",
      "9 remaining. dist=1.305294 Speaker=-\n",
      "9 remaining. dist=1.246918 Speaker=-\n",
      "8 remaining. dist=1.161736 Speaker=-\n",
      "8 remaining. dist=0.900886 Speaker=Rico\n",
      "7 remaining. dist=1.151994 Speaker=-\n",
      "7 remaining. dist=0.781099 Speaker=Rico\n",
      "6 remaining. dist=0.743346 Speaker=Rico\n",
      "6 remaining. dist=1.173527 Speaker=-\n",
      "5 remaining. dist=1.402816 Speaker=-\n",
      "5 remaining. dist=1.385853 Speaker=-\n",
      "4 remaining. dist=1.395822 Speaker=-\n",
      "4 remaining. dist=1.351745 Speaker=-\n",
      "3 remaining. dist=1.267563 Speaker=-\n",
      "3 remaining. dist=1.295461 Speaker=-\n",
      "2 remaining. dist=1.383031 Speaker=-\n",
      "2 remaining. dist=1.380281 Speaker=-\n",
      "1 remaining. dist=1.378038 Speaker=-\n",
      "1 remaining. dist=1.373088 Speaker=-\n",
      "0 remaining. dist=1.425356 Speaker=-\n"
     ]
    }
   ],
   "source": [
    "r = RecognizerPrototype([rico, cor, jecka], model)\n",
    "r.run(duration_seconds=15)"
   ]
  },
  {
   "cell_type": "code",
   "execution_count": null,
   "metadata": {},
   "outputs": [],
   "source": []
  }
 ],
 "metadata": {
  "kernelspec": {
   "display_name": "Python 3",
   "language": "python",
   "name": "python3"
  },
  "language_info": {
   "codemirror_mode": {
    "name": "ipython",
    "version": 3
   },
   "file_extension": ".py",
   "mimetype": "text/x-python",
   "name": "python",
   "nbconvert_exporter": "python",
   "pygments_lexer": "ipython3",
   "version": "3.7.4"
  }
 },
 "nbformat": 4,
 "nbformat_minor": 2
}
