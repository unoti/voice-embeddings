{
 "cells": [
  {
   "cell_type": "markdown",
   "metadata": {},
   "source": [
    "# Training"
   ]
  },
  {
   "cell_type": "code",
   "execution_count": 1,
   "metadata": {},
   "outputs": [
    {
     "name": "stderr",
     "output_type": "stream",
     "text": [
      "Using TensorFlow backend.\n"
     ]
    }
   ],
   "source": [
    "import numpy as np\n",
    "import application\n",
    "import models\n",
    "import charts\n",
    "import matplotlib.pyplot as plt\n",
    "application.init()"
   ]
  },
  {
   "cell_type": "markdown",
   "metadata": {},
   "source": [
    "I've got the following components working now:\n",
    " * **Speaker database**. Looking at our dataset of audio speaker samples and returning anchor, positive, negative triplets\n",
    " * **Audio preprocessing**. Running FFT's on audio samples and breaking them into Mel filter bank energies (log frequency bands)\n",
    " * **Batch building**. Build a batch of 32 triplets (anchor, positive, negative), slice each sample into 4 second segments. Preprocess the audio and build a batch of correctly shaped tensors ready to feed into the model.\n",
    " * **Model**. A deep neural net model that takes preprocessed audio and produces **speaker embeddings**\n",
    " * **Loss function**.  A loss function used to optimize the model using [Triplet Loss](https://en.wikipedia.org/wiki/Triplet_loss)"
   ]
  },
  {
   "cell_type": "markdown",
   "metadata": {},
   "source": [
    "## Next Steps\n",
    "\n",
    "### Processing speed\n",
    "I'm training about one batch per 24 seconds.  This breaks down into two major components:\n",
    "* **Batch building**. *9 sec*. Reading the audio files and running FFT transforms.  This could be done on another thread. Estimated speedup: about 1/3 faster.\n",
    "* **Set up GPU**. *15 sec*. I'm currently training on a CPU because I haven't got TensorFlow working on my GPU yet. Estimated speedup: at least 10x.\n",
    "\n",
    "Based on results I've seen from others doing similar things, I estimate I'll need about 100,000 batches to get good loss.  Just for laughs, let's look at what that'd take with the current approach:"
   ]
  },
  {
   "cell_type": "markdown",
   "metadata": {},
   "source": [
    "Here is an image from [Wallecplise](https://github.com/Walleclipse/Deep_Speaker-speaker_recognition_system) from their research doing speaker embedding training:\n",
    "![Walleclipse training losses over time](images/walleclipse-loss.png \"Walleclipse training losses\")\n"
   ]
  },
  {
   "cell_type": "markdown",
   "metadata": {},
   "source": [
    "There's some funny/interesting things in there:\n",
    " * How did they have so many losses close to zero? Why did they still have so many losses at 4+ after 85k iterations? As of 329 iterations, I'm not seeing anything close to zero.\n",
    " * Why did they see so much variance? I'm not seeing much variance.  Right now I'm at 2.7-3.8 and not much outside of that.  I did see one batch at 1.25 loss at batch 276, but haven't seen it that low since."
   ]
  },
  {
   "cell_type": "code",
   "execution_count": 3,
   "metadata": {},
   "outputs": [
    {
     "data": {
      "text/plain": [
       "25.462962962962962"
      ]
     },
     "execution_count": 3,
     "metadata": {},
     "output_type": "execute_result"
    }
   ],
   "source": [
    "batch_build_sec = 9\n",
    "training_sec = 15\n",
    "batch_train_sec = 22\n",
    "need_batches = 100000\n",
    "seconds_needed = batch_train_sec * need_batches\n",
    "hours_needed = seconds_needed / 3600\n",
    "days_needed = hours_needed / 24\n",
    "days_needed"
   ]
  },
  {
   "cell_type": "markdown",
   "metadata": {},
   "source": [
    "The training situation may not be as bad as I thought.  After 350 epochs I was getting training losses from 2.1-4.2.  It started with losses around 5-6.5.  This was after 2-3 hours of CPU-only training."
   ]
  },
  {
   "cell_type": "markdown",
   "metadata": {},
   "source": [
    "## Backlog\n",
    "Here's a prioritized backlog of things I need to do:\n",
    " * **Inference**. Make something that does inference.  Given two samples, decide if they're the same person.  Report on what the alpha is between anchor and positive, and anchor and negative.\n",
    "     * I'd like to output a confidence level that the two are the same person. What's a good way to do a confidence interval\n",
    "       given a single scalar?  I get a scalar representing the distance between speakers, and let's say I decide if distance < $\\alpha$ that they are the same person.  How do I turn that into a confidence? I could do a histogram plotting the similarity among 100 different speakers, and use that to make a confidence interval.\n",
    " * **Include filenames in the batch.** I need to be able to identify specific sound clips that are present in batches so that I can listen to clips that the model is erroneously thinking are the same speaker.\n",
    " * **Configure GPU**\n",
    "     * After configuring GPU, estimate training time needed for 100,000 batches\n",
    " * **Chart loss** Show a continuously updated graph of the training process so I can verify that it's making progress.\n",
    " * **Optimize audio preprocessing**.  Either do this on another thread, or preprocess the entire dataset\n",
    " * **Document model architecture**\n",
    " * **Document training processing pipeline**\n",
    " * **Add timing** Show time needed to train a batch.  Break that time down into preprocessing and training.  You'll need this for determining when it's time to stop optimizing and just let the thing learn.\n",
    "\n",
    "\n",
    " ## Backlog: Done\n",
    " * **Checkpoint / reload models** Save the model as it's training periodically, and create a facility to resume training.  Determine how big the model file is, and determine if you want to save N number of models, all models, or just the last x_days worth of models, how often to save, etc.\n",
    "   * Models are 20Mb.\n",
    " * **Log losses**. Append to a log that shows training loss per iteration.  You'll need this for doing charting that persists between incremental training sessions.\n"
   ]
  },
  {
   "cell_type": "markdown",
   "metadata": {},
   "source": [
    "# References\n",
    "\n",
    " * [FaceNet paper](https://arxiv.org/pdf/1503.03832.pdf) by Florian Schroff, Dmitry Kalenichenko, James Philbin (Google)\n",
    " * [Deep Speaker paper](https://arxiv.org/pdf/1705.02304.pdf) Chao Li, Xiaokong Ma, Bing Jiang, Xiangang Li (Baidu)\n",
    " * [Walleclipse/Deep_Speaker](https://github.com/Walleclipse/Deep_Speaker-speaker_recognition_system)\n",
    " * [philipperemy/deep-speaker](https://github.com/philipperemy/deep-speaker)"
   ]
  },
  {
   "cell_type": "code",
   "execution_count": 7,
   "metadata": {},
   "outputs": [
    {
     "data": {
      "text/plain": [
       "False"
      ]
     },
     "execution_count": 7,
     "metadata": {},
     "output_type": "execute_result"
    }
   ],
   "source": [
    "import os.path\n",
    "os.path.exists(r'C:\\Users\\Richard Lack\\Documents\\notebooks\\voice-embeddings\\checkpoints\\x.h5')"
   ]
  },
  {
   "cell_type": "markdown",
   "metadata": {},
   "source": [
    "## Check Results\n",
    "We're still training, but let's write some code that checks the performance and verify we're on the right track."
   ]
  },
  {
   "cell_type": "code",
   "execution_count": 7,
   "metadata": {},
   "outputs": [
    {
     "name": "stdout",
     "output_type": "stream",
     "text": [
      "Resuming at batch 13102\n",
      "Loading model from checkpoints\\voice-embeddings.h5\n",
      "Preloaded model from checkpoints\\voice-embeddings.h5\n"
     ]
    }
   ],
   "source": [
    "model = application.load_model()\n",
    "batch = application.make_batch()"
   ]
  },
  {
   "cell_type": "code",
   "execution_count": 3,
   "metadata": {},
   "outputs": [
    {
     "data": {
      "text/plain": [
       "array(['id10795', 'id10609', 'id10366', 'id10013', 'id11045', 'id10800',\n",
       "       'id10341', 'id10352', 'id11124', 'id10430', 'id10751', 'id10647',\n",
       "       'id11244', 'id10210', 'id11053', 'id11075', 'id10113', 'id11143',\n",
       "       'id10445', 'id11118', 'id10905', 'id10938', 'id10265', 'id10317',\n",
       "       'id10876', 'id10746', 'id11096', 'id10065', 'id10191', 'id10020',\n",
       "       'id11142', 'id10973', 'id10795', 'id10609', 'id10366', 'id10013',\n",
       "       'id11045', 'id10800', 'id10341', 'id10352', 'id11124', 'id10430',\n",
       "       'id10751', 'id10647', 'id11244', 'id10210', 'id11053', 'id11075',\n",
       "       'id10113', 'id11143', 'id10445', 'id11118', 'id10905', 'id10938',\n",
       "       'id10265', 'id10317', 'id10876', 'id10746', 'id11096', 'id10065',\n",
       "       'id10191', 'id10020', 'id11142', 'id10973', 'id10497', 'id10136',\n",
       "       'id11172', 'id10958', 'id10849', 'id10086', 'id10179', 'id10422',\n",
       "       'id10239', 'id10737', 'id10144', 'id10776', 'id10378', 'id11141',\n",
       "       'id10633', 'id11016', 'id10579', 'id10123', 'id10121', 'id10253',\n",
       "       'id10927', 'id10424', 'id10846', 'id10209', 'id10480', 'id11187',\n",
       "       'id10898', 'id10050', 'id11141', 'id11124', 'id11054', 'id10128'],\n",
       "      dtype='<U7')"
      ]
     },
     "execution_count": 3,
     "metadata": {},
     "output_type": "execute_result"
    }
   ],
   "source": [
    "batch.Y"
   ]
  },
  {
   "cell_type": "code",
   "execution_count": 4,
   "metadata": {},
   "outputs": [
    {
     "data": {
      "text/plain": [
       "'id10199'"
      ]
     },
     "execution_count": 4,
     "metadata": {},
     "output_type": "execute_result"
    }
   ],
   "source": [
    "# samples for speaker 1\n",
    "s1_id = batch.Y[0]\n",
    "s1_id"
   ]
  },
  {
   "cell_type": "code",
   "execution_count": 5,
   "metadata": {},
   "outputs": [
    {
     "data": {
      "text/plain": [
       "[0, 32, 76]"
      ]
     },
     "execution_count": 5,
     "metadata": {},
     "output_type": "execute_result"
    }
   ],
   "source": [
    "s1_indexes = [i for i in range(len(batch.Y)) if batch.Y[i]==s1_id]\n",
    "s1_indexes"
   ]
  },
  {
   "cell_type": "code",
   "execution_count": 6,
   "metadata": {},
   "outputs": [],
   "source": [
    "x1 = batch.X[0]\n",
    "x2 = batch.X[32]"
   ]
  },
  {
   "cell_type": "code",
   "execution_count": 9,
   "metadata": {},
   "outputs": [],
   "source": [
    "emb1 = models.get_embedding(model, x1)\n",
    "emb2 = models.get_embedding(model, x2)"
   ]
  },
  {
   "cell_type": "code",
   "execution_count": 10,
   "metadata": {},
   "outputs": [
    {
     "data": {
      "text/plain": [
       "512"
      ]
     },
     "execution_count": 10,
     "metadata": {},
     "output_type": "execute_result"
    }
   ],
   "source": [
    "len(emb1)"
   ]
  },
  {
   "cell_type": "code",
   "execution_count": 11,
   "metadata": {},
   "outputs": [
    {
     "data": {
      "text/plain": [
       "(array([-0.02322356, -0.03748165,  0.03216112, -0.02143482,  0.07364231],\n",
       "       dtype=float32),\n",
       " array([-0.04693886, -0.02959767, -0.01602123, -0.01369595,  0.0623736 ],\n",
       "       dtype=float32))"
      ]
     },
     "execution_count": 11,
     "metadata": {},
     "output_type": "execute_result"
    }
   ],
   "source": [
    "emb1[0:5], emb2[0:5]"
   ]
  },
  {
   "cell_type": "markdown",
   "metadata": {},
   "source": [
    "## Comparing embeddings"
   ]
  },
  {
   "cell_type": "code",
   "execution_count": 14,
   "metadata": {},
   "outputs": [
    {
     "data": {
      "text/plain": [
       "array([ 0.0237153 , -0.00788398,  0.04818235, -0.00773886,  0.01126871],\n",
       "      dtype=float32)"
      ]
     },
     "execution_count": 14,
     "metadata": {},
     "output_type": "execute_result"
    }
   ],
   "source": [
    "delta = (emb1 - emb2)\n",
    "delta[0:5]"
   ]
  },
  {
   "cell_type": "code",
   "execution_count": 15,
   "metadata": {},
   "outputs": [
    {
     "data": {
      "text/plain": [
       "array([5.6241540e-04, 6.2157153e-05, 2.3215392e-03, 5.9890030e-05,\n",
       "       1.2698371e-04], dtype=float32)"
      ]
     },
     "execution_count": 15,
     "metadata": {},
     "output_type": "execute_result"
    }
   ],
   "source": [
    "delta2 = delta **2\n",
    "delta2[0:5]"
   ]
  },
  {
   "cell_type": "code",
   "execution_count": 16,
   "metadata": {},
   "outputs": [
    {
     "data": {
      "text/plain": [
       "0.5299943037522183"
      ]
     },
     "execution_count": 16,
     "metadata": {},
     "output_type": "execute_result"
    }
   ],
   "source": [
    "sum(delta2)"
   ]
  },
  {
   "cell_type": "code",
   "execution_count": 12,
   "metadata": {},
   "outputs": [],
   "source": [
    "def dont_use__difference_emb(emb1, emb2):\n",
    "    # Don't use this formula.  Use the difference_emb2 below.\n",
    "    \"\"\"Returns a scalar indicating the difference between 2 embeddings.\n",
    "    Smaller numbers indicate closer.\n",
    "    \"\"\"\n",
    "    return np.sum((emb1 - emb2) ** 2)"
   ]
  },
  {
   "cell_type": "code",
   "execution_count": 18,
   "metadata": {},
   "outputs": [
    {
     "data": {
      "text/plain": [
       "0.5299943"
      ]
     },
     "execution_count": 18,
     "metadata": {},
     "output_type": "execute_result"
    }
   ],
   "source": [
    "difference_emb(emb1, emb2)"
   ]
  },
  {
   "cell_type": "code",
   "execution_count": 8,
   "metadata": {},
   "outputs": [],
   "source": [
    "def difference_sample(model, sample1, sample2):\n",
    "    \"\"\"Returns a scalar indicating the difference between 2 sound samples.\n",
    "    Smaller numbers indicate closer.\n",
    "    \"\"\"\n",
    "    emb1 = models.get_embedding(model, sample1)\n",
    "    emb2 = models.get_embedding(model, sample2)\n",
    "    return difference_emb(emb1, emb2)"
   ]
  },
  {
   "cell_type": "markdown",
   "metadata": {},
   "source": [
    "If this is working properly, we expect these two samples to be similar (low number) because they are from the same speaker:"
   ]
  },
  {
   "cell_type": "code",
   "execution_count": 22,
   "metadata": {},
   "outputs": [
    {
     "data": {
      "text/plain": [
       "0.3694021"
      ]
     },
     "execution_count": 22,
     "metadata": {},
     "output_type": "execute_result"
    }
   ],
   "source": [
    "difference_sample(model, batch.X[1], batch.X[33])"
   ]
  },
  {
   "cell_type": "markdown",
   "metadata": {},
   "source": [
    "And we expect for these two samples to be a higher number, because they are from different speakers:"
   ]
  },
  {
   "cell_type": "code",
   "execution_count": 25,
   "metadata": {},
   "outputs": [
    {
     "data": {
      "text/plain": [
       "1.1393651"
      ]
     },
     "execution_count": 25,
     "metadata": {},
     "output_type": "execute_result"
    }
   ],
   "source": [
    "difference_sample(model, batch.X[0], batch.X[4])"
   ]
  },
  {
   "cell_type": "markdown",
   "metadata": {},
   "source": [
    "Let's get several embeddings from several speakers."
   ]
  },
  {
   "cell_type": "code",
   "execution_count": 29,
   "metadata": {},
   "outputs": [],
   "source": [
    "embs = [models.get_embedding(model, sample) for sample in batch.X[0:10]]"
   ]
  },
  {
   "cell_type": "code",
   "execution_count": 30,
   "metadata": {},
   "outputs": [
    {
     "data": {
      "text/plain": [
       "10"
      ]
     },
     "execution_count": 30,
     "metadata": {},
     "output_type": "execute_result"
    }
   ],
   "source": [
    "len(embs)"
   ]
  },
  {
   "cell_type": "code",
   "execution_count": 31,
   "metadata": {},
   "outputs": [
    {
     "data": {
      "text/plain": [
       "[0.0,\n",
       " 0.18779477,\n",
       " 1.3388268,\n",
       " 1.928726,\n",
       " 1.1393651,\n",
       " 0.94274545,\n",
       " 0.8223575,\n",
       " 1.2534962,\n",
       " 2.1065187,\n",
       " 0.88644737]"
      ]
     },
     "execution_count": 31,
     "metadata": {},
     "output_type": "execute_result"
    }
   ],
   "source": [
    "[difference_emb(embs[0], embs[i]) for i in range(len(embs))]"
   ]
  },
  {
   "cell_type": "code",
   "execution_count": 35,
   "metadata": {},
   "outputs": [],
   "source": [
    "emb_speaker_1 = models.get_embedding(model, batch.X[33]) # Another sample from the same speaker as batch.X[1]"
   ]
  },
  {
   "cell_type": "code",
   "execution_count": 34,
   "metadata": {},
   "outputs": [
    {
     "data": {
      "text/plain": [
       "0.3694021"
      ]
     },
     "execution_count": 34,
     "metadata": {},
     "output_type": "execute_result"
    }
   ],
   "source": [
    "difference_emb(embs[1], emb_speaker_1)"
   ]
  },
  {
   "cell_type": "markdown",
   "metadata": {},
   "source": [
    "So it seems quite confident that these are all difference people, except that it thinks speaker 1 and speaker 0 are the same person."
   ]
  },
  {
   "cell_type": "markdown",
   "metadata": {},
   "source": [
    "## Trying a different distance measurement\n",
    "Here's how we did the distance measurement in my face recognition homework assignment. Let's see if that approach works better:"
   ]
  },
  {
   "cell_type": "code",
   "execution_count": 7,
   "metadata": {},
   "outputs": [],
   "source": [
    "def difference_emb2(emb1, emb2):\n",
    "    \"\"\"Returns a scalar indicating the difference between 2 embeddings.\n",
    "    Smaller numbers indicate closer.\n",
    "    \"\"\"\n",
    "    dist = np.linalg.norm(emb1 - emb2)\n",
    "    return dist"
   ]
  },
  {
   "cell_type": "code",
   "execution_count": 37,
   "metadata": {},
   "outputs": [
    {
     "data": {
      "text/plain": [
       "[0.0,\n",
       " 0.43335295,\n",
       " 1.1570767,\n",
       " 1.3887857,\n",
       " 1.0674105,\n",
       " 0.9709508,\n",
       " 0.90683925,\n",
       " 1.1195965,\n",
       " 1.4513851,\n",
       " 0.9415133]"
      ]
     },
     "execution_count": 37,
     "metadata": {},
     "output_type": "execute_result"
    }
   ],
   "source": [
    "[difference_emb2(embs[0], embs[i]) for i in range(len(embs))]"
   ]
  },
  {
   "cell_type": "markdown",
   "metadata": {},
   "source": [
    "That looks better, although it's still disturbingly close for speaker 0 and 1."
   ]
  },
  {
   "cell_type": "code",
   "execution_count": 6,
   "metadata": {},
   "outputs": [],
   "source": [
    "def comparison_matrix(model, batch, qty=3):\n",
    "    \"\"\"Compares the embeddings for the samples in a batch.\n",
    "    All the embeddings in the batch will be placed along the rows and the columns,\n",
    "    and the difference between each pair of embeddings will be placed in the matrix cells.\n",
    "    \"\"\"\n",
    "    # It wouldn't surprise me if there exists a better, vectorized way to do this.\n",
    "    embeddings = model.predict(batch.X)\n",
    "    num_emb = len(embeddings)\n",
    "    dists = np.zeros((qty, qty))\n",
    "    qty = min(qty, num_emb)\n",
    "    # Compare all the embeddings to each other\n",
    "    for row in range(qty):\n",
    "        row_emb = embeddings[row]\n",
    "        for col in range(qty):\n",
    "            col_emb = embeddings[col]\n",
    "            dists[row][col] = difference_emb2(row_emb, col_emb)\n",
    "    return dists"
   ]
  },
  {
   "cell_type": "code",
   "execution_count": 39,
   "metadata": {},
   "outputs": [],
   "source": [
    "embeddings = model.predict(batch.X)"
   ]
  },
  {
   "cell_type": "code",
   "execution_count": 40,
   "metadata": {},
   "outputs": [
    {
     "data": {
      "text/plain": [
       "array([-0.02322356, -0.03748165,  0.03216112, -0.02143482,  0.07364231],\n",
       "      dtype=float32)"
      ]
     },
     "execution_count": 40,
     "metadata": {},
     "output_type": "execute_result"
    }
   ],
   "source": [
    "embs[0][:5]"
   ]
  },
  {
   "cell_type": "code",
   "execution_count": 41,
   "metadata": {},
   "outputs": [
    {
     "data": {
      "text/plain": [
       "array([-0.02322355, -0.03748164,  0.03216112, -0.02143481,  0.07364228],\n",
       "      dtype=float32)"
      ]
     },
     "execution_count": 41,
     "metadata": {},
     "output_type": "execute_result"
    }
   ],
   "source": [
    "embeddings[0][:5]"
   ]
  },
  {
   "cell_type": "code",
   "execution_count": 57,
   "metadata": {},
   "outputs": [
    {
     "data": {
      "text/plain": [
       "array([[0.        , 0.43335292, 1.15707672, 1.38878548, 1.06741023],\n",
       "       [0.43335292, 0.        , 1.2794354 , 1.40750265, 0.87894404],\n",
       "       [1.15707672, 1.2794354 , 0.        , 1.1368717 , 1.22973502],\n",
       "       [1.38878548, 1.40750265, 1.1368717 , 0.        , 1.4543308 ],\n",
       "       [1.06741023, 0.87894404, 1.22973502, 1.4543308 , 0.        ]])"
      ]
     },
     "execution_count": 57,
     "metadata": {},
     "output_type": "execute_result"
    }
   ],
   "source": [
    "comparison = test_batch(model, batch, qty=5)\n",
    "comparison"
   ]
  },
  {
   "cell_type": "code",
   "execution_count": 58,
   "metadata": {},
   "outputs": [
    {
     "data": {
      "text/plain": [
       "<matplotlib.image.AxesImage at 0x1cd09e9e888>"
      ]
     },
     "execution_count": 58,
     "metadata": {},
     "output_type": "execute_result"
    },
    {
     "data": {
      "image/png": "[encoded data removed]",
      "text/plain": [
       "<Figure size 288x288 with 1 Axes>"
      ]
     },
     "metadata": {
      "needs_background": "light"
     },
     "output_type": "display_data"
    }
   ],
   "source": [
    "plt.matshow(comparison)"
   ]
  },
  {
   "cell_type": "code",
   "execution_count": 16,
   "metadata": {},
   "outputs": [],
   "source": [
    "comparison=comparison_matrix(model, batch, qty=32)"
   ]
  },
  {
   "cell_type": "code",
   "execution_count": 10,
   "metadata": {},
   "outputs": [],
   "source": [
    "def plot_comparison(model, batch, qty=96):\n",
    "    comparison = comparison_matrix(model, batch, qty)\n",
    "    plt.figure(figsize=(12,8))\n",
    "    plt.imshow(comparison)\n",
    "    plt.colorbar()"
   ]
  },
  {
   "cell_type": "code",
   "execution_count": 72,
   "metadata": {},
   "outputs": [
    {
     "data": {
      "image/png": "[encoded data removed]",
      "text/plain": [
       "<Figure size 864x576 with 2 Axes>"
      ]
     },
     "metadata": {
      "needs_background": "light"
     },
     "output_type": "display_data"
    }
   ],
   "source": [
    "plot_comparison(model, batch, qty=32)"
   ]
  },
  {
   "cell_type": "code",
   "execution_count": 71,
   "metadata": {},
   "outputs": [
    {
     "data": {
      "image/png": "[encoded data removed]",
      "text/plain": [
       "<Figure size 864x576 with 2 Axes>"
      ]
     },
     "metadata": {
      "needs_background": "light"
     },
     "output_type": "display_data"
    }
   ],
   "source": [
    "plot_comparison(model, batch)"
   ]
  },
  {
   "cell_type": "markdown",
   "metadata": {},
   "source": [
    "There are a few darker colored pixels here and there that might indicate difficulty in telling speakers apart.  The model is still training, though, so I'm not too worried.  These shots were taken after training epoch 8831, which may be pretty early times still for training."
   ]
  },
  {
   "cell_type": "markdown",
   "metadata": {},
   "source": [
    "Who are these two speakers it's having trouble differentiating?  Do they sound similar to *me* as a creature who is expert at neural sound processing?"
   ]
  },
  {
   "cell_type": "code",
   "execution_count": 75,
   "metadata": {},
   "outputs": [
    {
     "data": {
      "text/plain": [
       "array(['id10199', 'id10380'], dtype='<U7')"
      ]
     },
     "execution_count": 75,
     "metadata": {},
     "output_type": "execute_result"
    }
   ],
   "source": [
    "batch.Y[0:2]"
   ]
  },
  {
   "cell_type": "markdown",
   "metadata": {},
   "source": [
    "I went and listened to some samples of these two speakers, and don't feel too terrible about it identifying them as the same person."
   ]
  },
  {
   "cell_type": "code",
   "execution_count": 11,
   "metadata": {},
   "outputs": [
    {
     "data": {
      "image/png": "[encoded data removed]",
      "text/plain": [
       "<Figure size 864x576 with 2 Axes>"
      ]
     },
     "metadata": {
      "needs_background": "light"
     },
     "output_type": "display_data"
    }
   ],
   "source": [
    "plot_comparison(model, batch, qty=32)"
   ]
  },
  {
   "cell_type": "code",
   "execution_count": 3,
   "metadata": {},
   "outputs": [
    {
     "data": {
      "image/png": "[encoded data removed]",
      "text/plain": [
       "<Figure size 864x576 with 2 Axes>"
      ]
     },
     "metadata": {
      "needs_background": "light"
     },
     "output_type": "display_data"
    }
   ],
   "source": [
    "charts.plot_comparison(model, batch, qty=32)"
   ]
  },
  {
   "cell_type": "markdown",
   "metadata": {},
   "source": [
    "Let's look at the range of values that we get when comparing speakers.\n",
    "\n",
    "Comparisons to make:\n",
    " * Histogram of comparisons of same speaker. I hope for this to be a range of small values.\n",
    " * Histogram of comparisons of different speakers I hope for this to be a range of larger values."
   ]
  },
  {
   "cell_type": "code",
   "execution_count": 8,
   "metadata": {},
   "outputs": [],
   "source": [
    "import analysis\n",
    "comparison = analysis.comparison_matrix(model, batch, qty=96)"
   ]
  },
  {
   "cell_type": "code",
   "execution_count": 9,
   "metadata": {},
   "outputs": [],
   "source": [
    "from analysis import difference_emb\n",
    "import charts\n",
    "def performance_comparisons(comparison):\n",
    "    same_speakers = []\n",
    "    different_speakers = []\n",
    "    for row in range(comparison.shape[0]):\n",
    "        for col in range(comparison.shape[1]):\n",
    "            if col == row:\n",
    "                continue\n",
    "            val = comparison[row][col]\n",
    "            is_same = (col == row + 32) or (row == col + 32)\n",
    "            if is_same:\n",
    "                same_speakers.append(val)\n",
    "            else:\n",
    "                different_speakers.append(val)\n",
    "    return same_speakers, different_speakers\n",
    "\n",
    "def performance_histogram(comparison):\n",
    "    same_speakers, different_speakers = performance_comparisons(comparison)\n",
    "    charts.histogram(same_speakers, title='Same Speakers')\n",
    "    charts.histogram(different_speakers, title='Different Speakers')"
   ]
  },
  {
   "cell_type": "code",
   "execution_count": 10,
   "metadata": {},
   "outputs": [
    {
     "data": {
      "image/png": "[encoded data removed]",
      "text/plain": [
       "<Figure size 432x288 with 1 Axes>"
      ]
     },
     "metadata": {
      "needs_background": "light"
     },
     "output_type": "display_data"
    },
    {
     "data": {
      "image/png": "[encoded data removed]",
      "text/plain": [
       "<Figure size 432x288 with 1 Axes>"
      ]
     },
     "metadata": {
      "needs_background": "light"
     },
     "output_type": "display_data"
    }
   ],
   "source": [
    "performance_histogram(comparison)"
   ]
  },
  {
   "cell_type": "markdown",
   "metadata": {},
   "source": [
    "Given the distance, what is the probability that two samples are the same speaker?\n",
    "\n",
    "$$P(A | B) =  $$"
   ]
  },
  {
   "cell_type": "code",
   "execution_count": 16,
   "metadata": {},
   "outputs": [],
   "source": [
    "bins = np.array([0.3, 0.4, 0.5, 0.6, 0.7, 0.8, 0.9, 1.0, 1.1, 1.2, 1.3, 1.4, 1.5, 1.6, 1.7, 1.8])\n",
    "same, different = performance_comparisons(comparison)"
   ]
  },
  {
   "cell_type": "code",
   "execution_count": 22,
   "metadata": {},
   "outputs": [],
   "source": [
    "counts, bins = np.histogram(same)"
   ]
  },
  {
   "cell_type": "code",
   "execution_count": 23,
   "metadata": {},
   "outputs": [
    {
     "data": {
      "text/plain": [
       "128"
      ]
     },
     "execution_count": 23,
     "metadata": {},
     "output_type": "execute_result"
    }
   ],
   "source": [
    "sum(counts)"
   ]
  },
  {
   "cell_type": "code",
   "execution_count": 24,
   "metadata": {},
   "outputs": [
    {
     "data": {
      "text/plain": [
       "array([ 8, 12, 24, 14, 16, 20,  6,  8, 14,  6], dtype=int64)"
      ]
     },
     "execution_count": 24,
     "metadata": {},
     "output_type": "execute_result"
    }
   ],
   "source": [
    "counts"
   ]
  },
  {
   "cell_type": "code",
   "execution_count": 25,
   "metadata": {},
   "outputs": [
    {
     "data": {
      "text/plain": [
       "array([0.41000977, 0.53896916, 0.66792855, 0.79688794, 0.92584733,\n",
       "       1.05480672, 1.18376611, 1.31272551, 1.4416849 , 1.57064429,\n",
       "       1.69960368])"
      ]
     },
     "execution_count": 25,
     "metadata": {},
     "output_type": "execute_result"
    }
   ],
   "source": [
    "bins"
   ]
  },
  {
   "cell_type": "code",
   "execution_count": 27,
   "metadata": {},
   "outputs": [
    {
     "data": {
      "text/plain": [
       "array([0.41000977, 0.53896916, 0.66792855, 0.79688794, 0.92584733])"
      ]
     },
     "execution_count": 27,
     "metadata": {},
     "output_type": "execute_result"
    }
   ],
   "source": [
    "bins[0:5]"
   ]
  },
  {
   "cell_type": "code",
   "execution_count": 28,
   "metadata": {},
   "outputs": [
    {
     "data": {
      "text/plain": [
       "74"
      ]
     },
     "execution_count": 28,
     "metadata": {},
     "output_type": "execute_result"
    }
   ],
   "source": [
    "sum(counts[0:5])"
   ]
  },
  {
   "cell_type": "code",
   "execution_count": 29,
   "metadata": {},
   "outputs": [
    {
     "data": {
      "text/plain": [
       "0.578125"
      ]
     },
     "execution_count": 29,
     "metadata": {},
     "output_type": "execute_result"
    }
   ],
   "source": [
    "74/128"
   ]
  },
  {
   "cell_type": "code",
   "execution_count": 30,
   "metadata": {},
   "outputs": [],
   "source": [
    "counts, bins = np.histogram(different)"
   ]
  },
  {
   "cell_type": "code",
   "execution_count": 31,
   "metadata": {},
   "outputs": [
    {
     "data": {
      "text/plain": [
       "array([0.35627827, 0.50344475, 0.65061123, 0.79777772, 0.9449442 ,\n",
       "       1.09211068, 1.23927716, 1.38644364, 1.53361012, 1.68077661,\n",
       "       1.82794309])"
      ]
     },
     "execution_count": 31,
     "metadata": {},
     "output_type": "execute_result"
    }
   ],
   "source": [
    "bins"
   ]
  },
  {
   "cell_type": "code",
   "execution_count": 33,
   "metadata": {},
   "outputs": [
    {
     "data": {
      "text/plain": [
       "8992"
      ]
     },
     "execution_count": 33,
     "metadata": {},
     "output_type": "execute_result"
    }
   ],
   "source": [
    "sum(counts)"
   ]
  },
  {
   "cell_type": "code",
   "execution_count": 34,
   "metadata": {},
   "outputs": [
    {
     "data": {
      "text/plain": [
       "3164"
      ]
     },
     "execution_count": 34,
     "metadata": {},
     "output_type": "execute_result"
    }
   ],
   "source": [
    "sum(counts[0:5])"
   ]
  },
  {
   "cell_type": "code",
   "execution_count": 35,
   "metadata": {},
   "outputs": [
    {
     "data": {
      "text/plain": [
       "0.35186832740213525"
      ]
     },
     "execution_count": 35,
     "metadata": {},
     "output_type": "execute_result"
    }
   ],
   "source": [
    "3164/8992"
   ]
  },
  {
   "cell_type": "markdown",
   "metadata": {},
   "source": [
    "Let's look at comparisons using dot products, the same way our loss function works."
   ]
  },
  {
   "cell_type": "code",
   "execution_count": 42,
   "metadata": {},
   "outputs": [],
   "source": [
    "def compare2(model, batch):\n",
    "    embeddings = model.predict(batch.X)\n",
    "    emb_same = [] # Pairs of embeddings where both samples are from the same speaker.\n",
    "    emb_diff = [] # Pairs of embeddings where both samples are from different speakers.\n",
    "    for i in range(32):\n",
    "        anchor = embeddings[i]\n",
    "        emb_same.append((anchor, embeddings[i+32]))\n",
    "        emb_diff.append((anchor, embeddings[i+64]))\n",
    "    return emb_same, emb_diff"
   ]
  },
  {
   "cell_type": "code",
   "execution_count": 43,
   "metadata": {},
   "outputs": [],
   "source": [
    "same,diff = compare2(model,batch)"
   ]
  },
  {
   "cell_type": "code",
   "execution_count": 48,
   "metadata": {},
   "outputs": [
    {
     "data": {
      "text/plain": [
       "(array([ 0.01316172, -0.01770374,  0.04380926,  0.00432461,  0.01710355],\n",
       "       dtype=float32),\n",
       " array([ 0.04849419, -0.0222795 , -0.00039857,  0.03375416, -0.05869795],\n",
       "       dtype=float32))"
      ]
     },
     "execution_count": 48,
     "metadata": {},
     "output_type": "execute_result"
    }
   ],
   "source": [
    "same[0][0][0:5], same[0][1][0:5]"
   ]
  },
  {
   "cell_type": "code",
   "execution_count": 49,
   "metadata": {},
   "outputs": [],
   "source": [
    "pair = same[0]"
   ]
  },
  {
   "cell_type": "code",
   "execution_count": 50,
   "metadata": {},
   "outputs": [
    {
     "data": {
      "text/plain": [
       "0.4769954"
      ]
     },
     "execution_count": 50,
     "metadata": {},
     "output_type": "execute_result"
    }
   ],
   "source": [
    "np.dot(pair[0], pair[1])"
   ]
  },
  {
   "cell_type": "code",
   "execution_count": 51,
   "metadata": {},
   "outputs": [],
   "source": [
    "same_dots = [np.dot(a,b) for (a,b) in same]"
   ]
  },
  {
   "cell_type": "code",
   "execution_count": 52,
   "metadata": {},
   "outputs": [
    {
     "data": {
      "text/plain": [
       "[0.4769954, 0.5841879, 0.5215398, 0.73788154]"
      ]
     },
     "execution_count": 52,
     "metadata": {},
     "output_type": "execute_result"
    }
   ],
   "source": [
    "same_dots[0:4]"
   ]
  },
  {
   "cell_type": "code",
   "execution_count": 53,
   "metadata": {},
   "outputs": [
    {
     "data": {
      "text/plain": [
       "0.65096223"
      ]
     },
     "execution_count": 53,
     "metadata": {},
     "output_type": "execute_result"
    }
   ],
   "source": [
    "np.mean(same_dots)"
   ]
  },
  {
   "cell_type": "code",
   "execution_count": 54,
   "metadata": {},
   "outputs": [],
   "source": [
    "diff_dots = [np.dot(a,b) for (a,b) in diff]"
   ]
  },
  {
   "cell_type": "code",
   "execution_count": 55,
   "metadata": {},
   "outputs": [
    {
     "data": {
      "text/plain": [
       "0.17848873"
      ]
     },
     "execution_count": 55,
     "metadata": {},
     "output_type": "execute_result"
    }
   ],
   "source": [
    "np.mean(diff_dots)"
   ]
  },
  {
   "cell_type": "code",
   "execution_count": 57,
   "metadata": {},
   "outputs": [
    {
     "data": {
      "image/png": "[encoded data removed]",
      "text/plain": [
       "<Figure size 432x288 with 1 Axes>"
      ]
     },
     "metadata": {
      "needs_background": "light"
     },
     "output_type": "display_data"
    }
   ],
   "source": [
    "charts.histogram(same_dots, title='Same Speaker')"
   ]
  },
  {
   "cell_type": "code",
   "execution_count": 58,
   "metadata": {},
   "outputs": [
    {
     "data": {
      "image/png": "[encoded data removed]",
      "text/plain": [
       "<Figure size 432x288 with 1 Axes>"
      ]
     },
     "metadata": {
      "needs_background": "light"
     },
     "output_type": "display_data"
    }
   ],
   "source": [
    "charts.histogram(diff_dots, title='Different Speakers')"
   ]
  },
  {
   "cell_type": "markdown",
   "metadata": {},
   "source": [
    "The resulting similarity ranges from −1 meaning exactly opposite, to 1 meaning exactly the same, with 0 indicating orthogonality or decorrelation."
   ]
  },
  {
   "cell_type": "code",
   "execution_count": 63,
   "metadata": {},
   "outputs": [
    {
     "data": {
      "text/plain": [
       "21"
      ]
     },
     "execution_count": 63,
     "metadata": {},
     "output_type": "execute_result"
    }
   ],
   "source": [
    "len([d for d in same_dots if d>0.6])"
   ]
  },
  {
   "cell_type": "code",
   "execution_count": 64,
   "metadata": {},
   "outputs": [
    {
     "data": {
      "text/plain": [
       "32"
      ]
     },
     "execution_count": 64,
     "metadata": {},
     "output_type": "execute_result"
    }
   ],
   "source": [
    "len(same_dots)"
   ]
  },
  {
   "cell_type": "code",
   "execution_count": 65,
   "metadata": {},
   "outputs": [
    {
     "data": {
      "text/plain": [
       "0.65625"
      ]
     },
     "execution_count": 65,
     "metadata": {},
     "output_type": "execute_result"
    }
   ],
   "source": [
    "21/32"
   ]
  },
  {
   "cell_type": "code",
   "execution_count": 66,
   "metadata": {},
   "outputs": [
    {
     "data": {
      "text/plain": [
       "3"
      ]
     },
     "execution_count": 66,
     "metadata": {},
     "output_type": "execute_result"
    }
   ],
   "source": [
    "len([d for d in diff_dots if d>0.6])"
   ]
  },
  {
   "cell_type": "code",
   "execution_count": 67,
   "metadata": {},
   "outputs": [
    {
     "data": {
      "text/plain": [
       "32"
      ]
     },
     "execution_count": 67,
     "metadata": {},
     "output_type": "execute_result"
    }
   ],
   "source": [
    "len(diff_dots)"
   ]
  },
  {
   "cell_type": "code",
   "execution_count": 68,
   "metadata": {},
   "outputs": [
    {
     "data": {
      "text/plain": [
       "0.09375"
      ]
     },
     "execution_count": 68,
     "metadata": {},
     "output_type": "execute_result"
    }
   ],
   "source": [
    "3/32"
   ]
  },
  {
   "cell_type": "code",
   "execution_count": 70,
   "metadata": {},
   "outputs": [],
   "source": [
    "def predictive_power(same, diff, threshhold):\n",
    "    pos_detect = len([d for d in same if d>threshhold]) / len(same)\n",
    "    neg_detect = len([d for d in diff if d>threshhold]) / len(diff)\n",
    "    return pos_detect, neg_detect"
   ]
  },
  {
   "cell_type": "code",
   "execution_count": 72,
   "metadata": {},
   "outputs": [
    {
     "data": {
      "text/plain": [
       "(0.78125, 0.21875)"
      ]
     },
     "execution_count": 72,
     "metadata": {},
     "output_type": "execute_result"
    }
   ],
   "source": [
    "predictive_power(same_dots, diff_dots, 0.5)"
   ]
  },
  {
   "cell_type": "code",
   "execution_count": 76,
   "metadata": {},
   "outputs": [
    {
     "data": {
      "text/plain": [
       "(0.90625, 0.25)"
      ]
     },
     "execution_count": 76,
     "metadata": {},
     "output_type": "execute_result"
    }
   ],
   "source": [
    "predictive_power(same_dots, diff_dots, 0.4)"
   ]
  },
  {
   "cell_type": "code",
   "execution_count": 85,
   "metadata": {},
   "outputs": [
    {
     "data": {
      "image/png": "[encoded data removed]",
      "text/plain": [
       "<Figure size 432x288 with 1 Axes>"
      ]
     },
     "metadata": {
      "needs_background": "light"
     },
     "output_type": "display_data"
    }
   ],
   "source": [
    "bins = np.linspace(-0.5, 1.0, 20)\n",
    "plt.hist(same_dots, bins, alpha=0.5, label='Same')\n",
    "plt.hist(diff_dots, bins, alpha=0.5, label='Diff')\n",
    "plt.legend(loc='upper right')\n",
    "plt.show()"
   ]
  },
  {
   "cell_type": "code",
   "execution_count": null,
   "metadata": {},
   "outputs": [],
   "source": []
  }
 ],
 "metadata": {
  "kernelspec": {
   "display_name": "Python 3",
   "language": "python",
   "name": "python3"
  },
  "language_info": {
   "codemirror_mode": {
    "name": "ipython",
    "version": 3
   },
   "file_extension": ".py",
   "mimetype": "text/x-python",
   "name": "python",
   "nbconvert_exporter": "python",
   "pygments_lexer": "ipython3",
   "version": "3.7.4"
  }
 },
 "nbformat": 4,
 "nbformat_minor": 2
}
